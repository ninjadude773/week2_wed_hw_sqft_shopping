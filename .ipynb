{
 "cells": [
  {
   "cell_type": "code",
   "execution_count": null,
   "metadata": {},
   "outputs": [],
   "source": [
    "def sq_foot():\n",
    "    width = int(input(\"Enter your width \")) #takes users input for width\n",
    "    length = int(input(\"Enter your length \")) #takes users input for length\n",
    "    #may need a clear_output()\n",
    "    area = length * width\n",
    "    return (f'Your House\\'s Square Footage is equal to {area}ft')\n",
    "    \n",
    "sq_foot()"
   ]
  }
 ],
 "metadata": {
  "kernelspec": {
   "display_name": "Python 3",
   "language": "python",
   "name": "python3"
  },
  "language_info": {
   "codemirror_mode": {
    "name": "ipython",
    "version": 3
   },
   "file_extension": ".py",
   "mimetype": "text/x-python",
   "name": "python",
   "nbconvert_exporter": "python",
   "pygments_lexer": "ipython3",
   "version": "3.8.3"
  }
 },
 "nbformat": 4,
 "nbformat_minor": 4
}
